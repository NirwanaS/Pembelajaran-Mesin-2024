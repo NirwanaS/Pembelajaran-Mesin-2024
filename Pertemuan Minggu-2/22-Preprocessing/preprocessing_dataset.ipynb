{
 "cells": [
  {
   "cell_type": "code",
   "execution_count": 1,
   "id": "2344000a",
   "metadata": {},
   "outputs": [],
   "source": [
    "import numpy as np\n",
    "import matplotlib.pyplot as plt\n",
    "import pandas as pd"
   ]
  },
  {
   "cell_type": "code",
   "execution_count": 4,
   "id": "722e7c86",
   "metadata": {},
   "outputs": [],
   "source": [
    "# import dataset #\n",
    "dataset = pd.read_csv('stunting_dataset.csv')\n",
    "x = dataset.iloc[:, :-1].values\n",
    "y = dataset.iloc[:, -1].values"
   ]
  },
  {
   "cell_type": "code",
   "execution_count": 5,
   "id": "992045c3",
   "metadata": {},
   "outputs": [
    {
     "name": "stdout",
     "output_type": "stream",
     "text": [
      "[['Male' 17 3.0 ... 10.0 72.2 'No']\n",
      " ['Female' 11 2.9 ... 2.9 65.0 'No']\n",
      " ['Male' 16 2.9 ... 8.5 72.2 'No']\n",
      " ...\n",
      " ['Male' 16 2.8 ... 7.7 49.0 'No']\n",
      " ['Male' 14 2.8 ... 10.0 69.0 'No']\n",
      " ['Female' 10 3.0 ... 7.7 80.0 'No']]\n"
     ]
    }
   ],
   "source": [
    "print(x)"
   ]
  },
  {
   "cell_type": "code",
   "execution_count": 6,
   "id": "3f3974ec",
   "metadata": {},
   "outputs": [
    {
     "name": "stdout",
     "output_type": "stream",
     "text": [
      "['No' 'Yes' 'Yes' ... 'No' 'Yes' 'Yes']\n"
     ]
    }
   ],
   "source": [
    "print(y)"
   ]
  },
  {
   "cell_type": "code",
   "execution_count": 7,
   "id": "a4f4e0c5",
   "metadata": {},
   "outputs": [],
   "source": [
    "# menghilangkan missing value #\n",
    "from sklearn.impute import SimpleImputer\n",
    "imputer = SimpleImputer(missing_values=np.nan, strategy='mean')\n",
    "imputer.fit(x[:, 1:3])\n",
    "x[:, 1:3] = imputer.transform(x[:, 1:3])"
   ]
  },
  {
   "cell_type": "code",
   "execution_count": 8,
   "id": "592e3d88",
   "metadata": {},
   "outputs": [
    {
     "name": "stdout",
     "output_type": "stream",
     "text": [
      "[['Male' 17.0 3.0 ... 10.0 72.2 'No']\n",
      " ['Female' 11.0 2.9 ... 2.9 65.0 'No']\n",
      " ['Male' 16.0 2.9 ... 8.5 72.2 'No']\n",
      " ...\n",
      " ['Male' 16.0 2.8 ... 7.7 49.0 'No']\n",
      " ['Male' 14.0 2.8 ... 10.0 69.0 'No']\n",
      " ['Female' 10.0 3.0 ... 7.7 80.0 'No']]\n"
     ]
    }
   ],
   "source": [
    "print(x)"
   ]
  },
  {
   "cell_type": "code",
   "execution_count": 9,
   "id": "00229a78",
   "metadata": {},
   "outputs": [],
   "source": [
    "# encoding data Atribute #\n",
    "from sklearn.compose import ColumnTransformer\n",
    "from sklearn.preprocessing import OneHotEncoder\n",
    "ct = ColumnTransformer(transformers=[('encoder', OneHotEncoder(), [0])], remainder='passthrough')\n",
    "x = np.array(ct.fit_transform(x))"
   ]
  },
  {
   "cell_type": "code",
   "execution_count": 10,
   "id": "b8d1b276",
   "metadata": {},
   "outputs": [
    {
     "name": "stdout",
     "output_type": "stream",
     "text": [
      "[[0.0 1.0 17.0 ... 10.0 72.2 'No']\n",
      " [1.0 0.0 11.0 ... 2.9 65.0 'No']\n",
      " [0.0 1.0 16.0 ... 8.5 72.2 'No']\n",
      " ...\n",
      " [0.0 1.0 16.0 ... 7.7 49.0 'No']\n",
      " [0.0 1.0 14.0 ... 10.0 69.0 'No']\n",
      " [1.0 0.0 10.0 ... 7.7 80.0 'No']]\n"
     ]
    }
   ],
   "source": [
    "print(x)"
   ]
  },
  {
   "cell_type": "code",
   "execution_count": 11,
   "id": "9045aba6",
   "metadata": {},
   "outputs": [],
   "source": [
    "# encoding data class/label #\n",
    "from sklearn.preprocessing import LabelEncoder\n",
    "le = LabelEncoder()\n",
    "y = le.fit_transform(y)"
   ]
  },
  {
   "cell_type": "code",
   "execution_count": 12,
   "id": "c4416751",
   "metadata": {},
   "outputs": [
    {
     "name": "stdout",
     "output_type": "stream",
     "text": [
      "[0 1 1 ... 0 1 1]\n"
     ]
    }
   ],
   "source": [
    "print(y)"
   ]
  },
  {
   "cell_type": "code",
   "execution_count": 13,
   "id": "b006d9ae",
   "metadata": {},
   "outputs": [],
   "source": [
    "# membagi dataset (training & test) #\n",
    "from sklearn.model_selection import train_test_split\n",
    "x_train, x_test, y_train, y_test = train_test_split(x, y, test_size = 0.2, random_state = 1)"
   ]
  },
  {
   "cell_type": "code",
   "execution_count": 14,
   "id": "bf9ea3ad",
   "metadata": {},
   "outputs": [
    {
     "name": "stdout",
     "output_type": "stream",
     "text": [
      "[[0.0 1.0 14.0 ... 7.1 73.5 'No']\n",
      " [1.0 0.0 10.0 ... 8.4 68.3 'No']\n",
      " [0.0 1.0 11.0 ... 7.7 68.3 'No']\n",
      " ...\n",
      " [0.0 1.0 17.0 ... 6.4 69.0 'No']\n",
      " [0.0 1.0 13.0 ... 9.0 69.0 'No']\n",
      " [0.0 1.0 14.0 ... 7.1 49.0 'No']]\n"
     ]
    }
   ],
   "source": [
    "print(x_train)"
   ]
  },
  {
   "cell_type": "code",
   "execution_count": 15,
   "id": "28e8f2ae",
   "metadata": {},
   "outputs": [
    {
     "name": "stdout",
     "output_type": "stream",
     "text": [
      "[[1.0 0.0 7.0 ... 7.7 72.2 'No']\n",
      " [0.0 1.0 12.0 ... 8.4 49.0 'No']\n",
      " [0.0 1.0 11.0 ... 2.9 71.0 'No']\n",
      " ...\n",
      " [0.0 1.0 25.0 ... 7.0 65.0 'No']\n",
      " [1.0 0.0 14.0 ... 7.0 65.0 'No']\n",
      " [1.0 0.0 15.0 ... 7.0 63.0 'No']]\n"
     ]
    }
   ],
   "source": [
    "print(x_test)"
   ]
  },
  {
   "cell_type": "code",
   "execution_count": 16,
   "id": "89403db9",
   "metadata": {},
   "outputs": [
    {
     "name": "stdout",
     "output_type": "stream",
     "text": [
      "[1 0 0 ... 1 1 0]\n"
     ]
    }
   ],
   "source": [
    "print(y_train)"
   ]
  },
  {
   "cell_type": "code",
   "execution_count": 17,
   "id": "3ec37a2a",
   "metadata": {},
   "outputs": [
    {
     "name": "stdout",
     "output_type": "stream",
     "text": [
      "[1 1 1 ... 1 0 1]\n"
     ]
    }
   ],
   "source": [
    "print(y_test)"
   ]
  },
  {
   "cell_type": "code",
   "execution_count": 25,
   "id": "b21b60cc",
   "metadata": {},
   "outputs": [],
   "source": [
    "#Feature Scaling#\n",
    "from sklearn.preprocessing import StandardScaler\n",
    "sc = StandardScaler()\n",
    "x_train[:, :3] = sc.fit_transform(x_train[:, :3])\n",
    "x_test[:, :3] = sc.transform(x_test[:, :3])"
   ]
  },
  {
   "cell_type": "code",
   "execution_count": 26,
   "id": "c136d5d5",
   "metadata": {},
   "outputs": [
    {
     "name": "stdout",
     "output_type": "stream",
     "text": [
      "[[-0.7762500258061397 0.7762500258061397 -0.02631904478431329 ... 7.1\n",
      "  73.5 'No']\n",
      " [1.2882447236782744 -1.2882447236782744 -0.5348996203265973 ... 8.4 68.3\n",
      "  'No']\n",
      " [-0.7762500258061397 0.7762500258061397 -0.4077544764410263 ... 7.7 68.3\n",
      "  'No']\n",
      " ...\n",
      " [-0.7762500258061397 0.7762500258061397 0.3551163868723997 ... 6.4 69.0\n",
      "  'No']\n",
      " [-0.7762500258061397 0.7762500258061397 -0.1534641886698843 ... 9.0 69.0\n",
      "  'No']\n",
      " [-0.7762500258061397 0.7762500258061397 -0.02631904478431329 ... 7.1\n",
      "  49.0 'No']]\n"
     ]
    }
   ],
   "source": [
    "print(x_train)"
   ]
  },
  {
   "cell_type": "code",
   "execution_count": 27,
   "id": "0b7b4fbd",
   "metadata": {},
   "outputs": [
    {
     "name": "stdout",
     "output_type": "stream",
     "text": [
      "[[1.2882447236782744 -1.2882447236782744 -0.9163350519833103 ... 7.7 72.2\n",
      "  'No']\n",
      " [-0.7762500258061397 0.7762500258061397 -0.2806093325554553 ... 8.4 49.0\n",
      "  'No']\n",
      " [-0.7762500258061397 0.7762500258061397 -0.4077544764410263 ... 2.9 71.0\n",
      "  'No']\n",
      " ...\n",
      " [-0.7762500258061397 0.7762500258061397 1.3722775379569678 ... 7.0 65.0\n",
      "  'No']\n",
      " [1.2882447236782744 -1.2882447236782744 -0.02631904478431329 ... 7.0\n",
      "  65.0 'No']\n",
      " [1.2882447236782744 -1.2882447236782744 0.10082609910125771 ... 7.0 63.0\n",
      "  'No']]\n"
     ]
    }
   ],
   "source": [
    "print(x_test)"
   ]
  },
  {
   "cell_type": "code",
   "execution_count": null,
   "id": "fa57d030",
   "metadata": {},
   "outputs": [],
   "source": []
  }
 ],
 "metadata": {
  "kernelspec": {
   "display_name": "Python 3 (ipykernel)",
   "language": "python",
   "name": "python3"
  },
  "language_info": {
   "codemirror_mode": {
    "name": "ipython",
    "version": 3
   },
   "file_extension": ".py",
   "mimetype": "text/x-python",
   "name": "python",
   "nbconvert_exporter": "python",
   "pygments_lexer": "ipython3",
   "version": "3.9.12"
  }
 },
 "nbformat": 4,
 "nbformat_minor": 5
}
